{
  "nbformat": 4,
  "nbformat_minor": 0,
  "metadata": {
    "colab": {
      "name": "Previsão com knn.ipynb",
      "provenance": [],
      "authorship_tag": "ABX9TyNaX8sEFu5V/novsT2KTcpk",
      "include_colab_link": true
    },
    "kernelspec": {
      "name": "ir",
      "display_name": "R"
    },
    "language_info": {
      "name": "R"
    }
  },
  "cells": [
    {
      "cell_type": "markdown",
      "metadata": {
        "id": "view-in-github",
        "colab_type": "text"
      },
      "source": [
        "<a href=\"https://colab.research.google.com/github/LucasMirandaVS/Projeto1---Previsao-com-KNN/blob/main/Previs%C3%A3o_com_knn.ipynb\" target=\"_parent\"><img src=\"https://colab.research.google.com/assets/colab-badge.svg\" alt=\"Open In Colab\"/></a>"
      ]
    },
    {
      "cell_type": "markdown",
      "source": [
        "Projeto - Prevendo a ocorrencia de cancer\n",
        "\n"
      ],
      "metadata": {
        "id": "aqdt26CFHQCU"
      }
    },
    {
      "cell_type": "markdown",
      "source": [
        "## 1 - Importando os dados.\n",
        "\n"
      ],
      "metadata": {
        "id": "9sFaM35uHYCy"
      }
    },
    {
      "cell_type": "code",
      "execution_count": 1,
      "metadata": {
        "colab": {
          "base_uri": "https://localhost:8080/"
        },
        "id": "fPdOFTHkHGcY",
        "outputId": "2689a683-6741-4b28-de3f-4688e0c2648b"
      },
      "outputs": [
        {
          "output_type": "stream",
          "name": "stdout",
          "text": [
            "'data.frame':\t569 obs. of  33 variables:\n",
            " $ id                     : int  842302 842517 84300903 84348301 84358402 843786 844359 84458202 844981 84501001 ...\n",
            " $ diagnosis              : chr  \"M\" \"M\" \"M\" \"M\" ...\n",
            " $ radius_mean            : num  18 20.6 19.7 11.4 20.3 ...\n",
            " $ texture_mean           : num  10.4 17.8 21.2 20.4 14.3 ...\n",
            " $ perimeter_mean         : num  122.8 132.9 130 77.6 135.1 ...\n",
            " $ area_mean              : num  1001 1326 1203 386 1297 ...\n",
            " $ smoothness_mean        : num  0.1184 0.0847 0.1096 0.1425 0.1003 ...\n",
            " $ compactness_mean       : num  0.2776 0.0786 0.1599 0.2839 0.1328 ...\n",
            " $ concavity_mean         : num  0.3001 0.0869 0.1974 0.2414 0.198 ...\n",
            " $ concave.points_mean    : num  0.1471 0.0702 0.1279 0.1052 0.1043 ...\n",
            " $ symmetry_mean          : num  0.242 0.181 0.207 0.26 0.181 ...\n",
            " $ fractal_dimension_mean : num  0.0787 0.0567 0.06 0.0974 0.0588 ...\n",
            " $ radius_se              : num  1.095 0.543 0.746 0.496 0.757 ...\n",
            " $ texture_se             : num  0.905 0.734 0.787 1.156 0.781 ...\n",
            " $ perimeter_se           : num  8.59 3.4 4.58 3.44 5.44 ...\n",
            " $ area_se                : num  153.4 74.1 94 27.2 94.4 ...\n",
            " $ smoothness_se          : num  0.0064 0.00522 0.00615 0.00911 0.01149 ...\n",
            " $ compactness_se         : num  0.049 0.0131 0.0401 0.0746 0.0246 ...\n",
            " $ concavity_se           : num  0.0537 0.0186 0.0383 0.0566 0.0569 ...\n",
            " $ concave.points_se      : num  0.0159 0.0134 0.0206 0.0187 0.0188 ...\n",
            " $ symmetry_se            : num  0.03 0.0139 0.0225 0.0596 0.0176 ...\n",
            " $ fractal_dimension_se   : num  0.00619 0.00353 0.00457 0.00921 0.00511 ...\n",
            " $ radius_worst           : num  25.4 25 23.6 14.9 22.5 ...\n",
            " $ texture_worst          : num  17.3 23.4 25.5 26.5 16.7 ...\n",
            " $ perimeter_worst        : num  184.6 158.8 152.5 98.9 152.2 ...\n",
            " $ area_worst             : num  2019 1956 1709 568 1575 ...\n",
            " $ smoothness_worst       : num  0.162 0.124 0.144 0.21 0.137 ...\n",
            " $ compactness_worst      : num  0.666 0.187 0.424 0.866 0.205 ...\n",
            " $ concavity_worst        : num  0.712 0.242 0.45 0.687 0.4 ...\n",
            " $ concave.points_worst   : num  0.265 0.186 0.243 0.258 0.163 ...\n",
            " $ symmetry_worst         : num  0.46 0.275 0.361 0.664 0.236 ...\n",
            " $ fractal_dimension_worst: num  0.1189 0.089 0.0876 0.173 0.0768 ...\n",
            " $ X                      : logi  NA NA NA NA NA NA ...\n"
          ]
        }
      ],
      "source": [
        "df <- read.csv(\"data.csv\", stringsAsFactors = FALSE)\n",
        "str(df)"
      ]
    },
    {
      "cell_type": "markdown",
      "source": [
        "## 2- Explorando os dados"
      ],
      "metadata": {
        "id": "_GLwuCyBHp5-"
      }
    },
    {
      "cell_type": "code",
      "source": [
        "# Primeiro vou remover a coluna ID e a coluna X\n",
        "df <- df[-1]\n",
        "df <- df[-32]\n",
        "str(df)"
      ],
      "metadata": {
        "colab": {
          "base_uri": "https://localhost:8080/"
        },
        "id": "-vvH39rkHkT9",
        "outputId": "642be5a3-1fa6-430d-c367-fa3f849aed8c"
      },
      "execution_count": 2,
      "outputs": [
        {
          "output_type": "stream",
          "name": "stdout",
          "text": [
            "'data.frame':\t569 obs. of  31 variables:\n",
            " $ diagnosis              : chr  \"M\" \"M\" \"M\" \"M\" ...\n",
            " $ radius_mean            : num  18 20.6 19.7 11.4 20.3 ...\n",
            " $ texture_mean           : num  10.4 17.8 21.2 20.4 14.3 ...\n",
            " $ perimeter_mean         : num  122.8 132.9 130 77.6 135.1 ...\n",
            " $ area_mean              : num  1001 1326 1203 386 1297 ...\n",
            " $ smoothness_mean        : num  0.1184 0.0847 0.1096 0.1425 0.1003 ...\n",
            " $ compactness_mean       : num  0.2776 0.0786 0.1599 0.2839 0.1328 ...\n",
            " $ concavity_mean         : num  0.3001 0.0869 0.1974 0.2414 0.198 ...\n",
            " $ concave.points_mean    : num  0.1471 0.0702 0.1279 0.1052 0.1043 ...\n",
            " $ symmetry_mean          : num  0.242 0.181 0.207 0.26 0.181 ...\n",
            " $ fractal_dimension_mean : num  0.0787 0.0567 0.06 0.0974 0.0588 ...\n",
            " $ radius_se              : num  1.095 0.543 0.746 0.496 0.757 ...\n",
            " $ texture_se             : num  0.905 0.734 0.787 1.156 0.781 ...\n",
            " $ perimeter_se           : num  8.59 3.4 4.58 3.44 5.44 ...\n",
            " $ area_se                : num  153.4 74.1 94 27.2 94.4 ...\n",
            " $ smoothness_se          : num  0.0064 0.00522 0.00615 0.00911 0.01149 ...\n",
            " $ compactness_se         : num  0.049 0.0131 0.0401 0.0746 0.0246 ...\n",
            " $ concavity_se           : num  0.0537 0.0186 0.0383 0.0566 0.0569 ...\n",
            " $ concave.points_se      : num  0.0159 0.0134 0.0206 0.0187 0.0188 ...\n",
            " $ symmetry_se            : num  0.03 0.0139 0.0225 0.0596 0.0176 ...\n",
            " $ fractal_dimension_se   : num  0.00619 0.00353 0.00457 0.00921 0.00511 ...\n",
            " $ radius_worst           : num  25.4 25 23.6 14.9 22.5 ...\n",
            " $ texture_worst          : num  17.3 23.4 25.5 26.5 16.7 ...\n",
            " $ perimeter_worst        : num  184.6 158.8 152.5 98.9 152.2 ...\n",
            " $ area_worst             : num  2019 1956 1709 568 1575 ...\n",
            " $ smoothness_worst       : num  0.162 0.124 0.144 0.21 0.137 ...\n",
            " $ compactness_worst      : num  0.666 0.187 0.424 0.866 0.205 ...\n",
            " $ concavity_worst        : num  0.712 0.242 0.45 0.687 0.4 ...\n",
            " $ concave.points_worst   : num  0.265 0.186 0.243 0.258 0.163 ...\n",
            " $ symmetry_worst         : num  0.46 0.275 0.361 0.664 0.236 ...\n",
            " $ fractal_dimension_worst: num  0.1189 0.089 0.0876 0.173 0.0768 ...\n"
          ]
        }
      ]
    },
    {
      "cell_type": "code",
      "source": [
        "any(is.na(df)) # Agora o data frame não em mais valores NA"
      ],
      "metadata": {
        "colab": {
          "base_uri": "https://localhost:8080/",
          "height": 34
        },
        "id": "cpdtL7qwH0GE",
        "outputId": "b5674423-e26d-4182-81c5-c6b44252f64f"
      },
      "execution_count": 3,
      "outputs": [
        {
          "output_type": "display_data",
          "data": {
            "text/html": [
              "FALSE"
            ],
            "text/markdown": "FALSE",
            "text/latex": "FALSE",
            "text/plain": [
              "[1] FALSE"
            ]
          },
          "metadata": {}
        }
      ]
    },
    {
      "cell_type": "code",
      "source": [
        "# Agora vou tratar de categorizar a coluna que identifica o tipo de tumor\n",
        "table(df$diagnosis)"
      ],
      "metadata": {
        "colab": {
          "base_uri": "https://localhost:8080/",
          "height": 69
        },
        "id": "qSM-9MmEH13z",
        "outputId": "8dcac4ba-1c67-4544-8f45-e6b9a24762df"
      },
      "execution_count": 4,
      "outputs": [
        {
          "output_type": "display_data",
          "data": {
            "text/plain": [
              "\n",
              "  B   M \n",
              "357 212 "
            ]
          },
          "metadata": {}
        }
      ]
    },
    {
      "cell_type": "code",
      "source": [
        "df$diagnosis <- factor(df$diagnosis,\n",
        "                       levels = c('B', 'M'),\n",
        "                       labels = c('Benigno', 'Maligno'))\n",
        "\n",
        "str(df$diagnosis)"
      ],
      "metadata": {
        "colab": {
          "base_uri": "https://localhost:8080/"
        },
        "id": "Gz-mHkvrH6z-",
        "outputId": "1b78c118-84b6-409b-d9c9-0755dbdad37b"
      },
      "execution_count": 5,
      "outputs": [
        {
          "output_type": "stream",
          "name": "stdout",
          "text": [
            " Factor w/ 2 levels \"Benigno\",\"Maligno\": 2 2 2 2 2 2 2 2 2 2 ...\n"
          ]
        }
      ]
    },
    {
      "cell_type": "code",
      "source": [
        "# Agora da pra verificar a proporção dessa variável\n",
        "round(prop.table(table(df$diagnosis)) * 100, digits = 1)"
      ],
      "metadata": {
        "colab": {
          "base_uri": "https://localhost:8080/",
          "height": 69
        },
        "id": "Ujxt9j1kICsN",
        "outputId": "63f863d2-cdb1-4132-b361-fe90e6f44f1b"
      },
      "execution_count": 6,
      "outputs": [
        {
          "output_type": "display_data",
          "data": {
            "text/plain": [
              "\n",
              "Benigno Maligno \n",
              "   62.7    37.3 "
            ]
          },
          "metadata": {}
        }
      ]
    },
    {
      "cell_type": "code",
      "source": [
        "# Medidas de tendência central\n",
        "summary(df[c('radius_mean', 'area_mean', 'smoothness_mean')])"
      ],
      "metadata": {
        "colab": {
          "base_uri": "https://localhost:8080/",
          "height": 139
        },
        "id": "Xg1Dnbp-IGYB",
        "outputId": "58f51edb-3483-4ce1-c137-ee8745263344"
      },
      "execution_count": 7,
      "outputs": [
        {
          "output_type": "display_data",
          "data": {
            "text/plain": [
              "  radius_mean       area_mean      smoothness_mean  \n",
              " Min.   : 6.981   Min.   : 143.5   Min.   :0.05263  \n",
              " 1st Qu.:11.700   1st Qu.: 420.3   1st Qu.:0.08637  \n",
              " Median :13.370   Median : 551.1   Median :0.09587  \n",
              " Mean   :14.127   Mean   : 654.9   Mean   :0.09636  \n",
              " 3rd Qu.:15.780   3rd Qu.: 782.7   3rd Qu.:0.10530  \n",
              " Max.   :28.110   Max.   :2501.0   Max.   :0.16340  "
            ]
          },
          "metadata": {}
        }
      ]
    },
    {
      "cell_type": "code",
      "source": [
        "# Normalizando as variáveis\n",
        "normal <- function(x){\n",
        "  return((x - min(x))/ (max(x) - min(x)))\n",
        "} # essa função normaliza um vetor numerico"
      ],
      "metadata": {
        "id": "O-uULUX3IJ1w"
      },
      "execution_count": 8,
      "outputs": []
    },
    {
      "cell_type": "code",
      "source": [
        "normal(c(1,2,3,4,5))\n",
        "\n",
        "normal(c(10,20,30,40,50)) # a função funciona pois devolve dois valores iguais\n"
      ],
      "metadata": {
        "colab": {
          "base_uri": "https://localhost:8080/",
          "height": 52
        },
        "id": "E6iXztPQIQ6l",
        "outputId": "d6f44e1d-df61-4682-f0f0-33ad32986e58"
      },
      "execution_count": 10,
      "outputs": [
        {
          "output_type": "display_data",
          "data": {
            "text/html": [
              "<style>\n",
              ".list-inline {list-style: none; margin:0; padding: 0}\n",
              ".list-inline>li {display: inline-block}\n",
              ".list-inline>li:not(:last-child)::after {content: \"\\00b7\"; padding: 0 .5ex}\n",
              "</style>\n",
              "<ol class=list-inline><li>0</li><li>0.25</li><li>0.5</li><li>0.75</li><li>1</li></ol>\n"
            ],
            "text/markdown": "1. 0\n2. 0.25\n3. 0.5\n4. 0.75\n5. 1\n\n\n",
            "text/latex": "\\begin{enumerate*}\n\\item 0\n\\item 0.25\n\\item 0.5\n\\item 0.75\n\\item 1\n\\end{enumerate*}\n",
            "text/plain": [
              "[1] 0.00 0.25 0.50 0.75 1.00"
            ]
          },
          "metadata": {}
        },
        {
          "output_type": "display_data",
          "data": {
            "text/html": [
              "<style>\n",
              ".list-inline {list-style: none; margin:0; padding: 0}\n",
              ".list-inline>li {display: inline-block}\n",
              ".list-inline>li:not(:last-child)::after {content: \"\\00b7\"; padding: 0 .5ex}\n",
              "</style>\n",
              "<ol class=list-inline><li>0</li><li>0.25</li><li>0.5</li><li>0.75</li><li>1</li></ol>\n"
            ],
            "text/markdown": "1. 0\n2. 0.25\n3. 0.5\n4. 0.75\n5. 1\n\n\n",
            "text/latex": "\\begin{enumerate*}\n\\item 0\n\\item 0.25\n\\item 0.5\n\\item 0.75\n\\item 1\n\\end{enumerate*}\n",
            "text/plain": [
              "[1] 0.00 0.25 0.50 0.75 1.00"
            ]
          },
          "metadata": {}
        }
      ]
    },
    {
      "cell_type": "code",
      "source": [
        "# Aplicando a função aos dados\n",
        "df_normal <- as.data.frame(lapply(df[2:31], normal))"
      ],
      "metadata": {
        "id": "kU7LMxHKIbXT"
      },
      "execution_count": 12,
      "outputs": []
    },
    {
      "cell_type": "code",
      "source": [
        "summary(df_normal[c('radius_mean', 'area_mean', 'smoothness_mean')]) # funcionou"
      ],
      "metadata": {
        "colab": {
          "base_uri": "https://localhost:8080/",
          "height": 139
        },
        "id": "LedKFI1RIlu-",
        "outputId": "e09dbc38-9bcf-48dc-dbcc-0ab3a993ad3b"
      },
      "execution_count": 13,
      "outputs": [
        {
          "output_type": "display_data",
          "data": {
            "text/plain": [
              "  radius_mean       area_mean      smoothness_mean \n",
              " Min.   :0.0000   Min.   :0.0000   Min.   :0.0000  \n",
              " 1st Qu.:0.2233   1st Qu.:0.1174   1st Qu.:0.3046  \n",
              " Median :0.3024   Median :0.1729   Median :0.3904  \n",
              " Mean   :0.3382   Mean   :0.2169   Mean   :0.3948  \n",
              " 3rd Qu.:0.4164   3rd Qu.:0.2711   3rd Qu.:0.4755  \n",
              " Max.   :1.0000   Max.   :1.0000   Max.   :1.0000  "
            ]
          },
          "metadata": {}
        }
      ]
    },
    {
      "cell_type": "markdown",
      "source": [
        "## 3 - Treinando o modelo"
      ],
      "metadata": {
        "id": "0KOKNPMYIsmy"
      }
    },
    {
      "cell_type": "code",
      "source": [
        "# Pacote com a função KnN\n",
        "install.packages('class')\n",
        "library(class)"
      ],
      "metadata": {
        "colab": {
          "base_uri": "https://localhost:8080/"
        },
        "id": "QJip8SlAIrE9",
        "outputId": "bf80e7b9-93ab-4d31-92a7-4e28cec6ebcd"
      },
      "execution_count": 14,
      "outputs": [
        {
          "output_type": "stream",
          "name": "stderr",
          "text": [
            "Installing package into ‘/usr/local/lib/R/site-library’\n",
            "(as ‘lib’ is unspecified)\n",
            "\n"
          ]
        }
      ]
    },
    {
      "cell_type": "code",
      "source": [
        "# Separando os dados de treino e de teste:\n",
        "treino <- df_normal[1:469,]\n",
        "teste <- df_normal[470:569,]"
      ],
      "metadata": {
        "id": "W3Ro6F9FI1vW"
      },
      "execution_count": 15,
      "outputs": []
    },
    {
      "cell_type": "code",
      "source": [
        "# Colocando as labels\n",
        "treino_labels <- df[1:469, 1]\n",
        "teste_labels <- df[470:569, 1]"
      ],
      "metadata": {
        "id": "FYxj_J4jI35U"
      },
      "execution_count": 16,
      "outputs": []
    },
    {
      "cell_type": "code",
      "source": [
        "# Agora ja é possível criar o modelo\n",
        "modelo1 <- knn(train = treino,\n",
        "               test = teste,\n",
        "               cl = treino_labels,\n",
        "               k = 21)\n",
        "class(modelo1)"
      ],
      "metadata": {
        "colab": {
          "base_uri": "https://localhost:8080/",
          "height": 34
        },
        "id": "NBAQXlZqI6iz",
        "outputId": "9e8a0686-5aa0-46bf-f2b7-d4b977fe694c"
      },
      "execution_count": 17,
      "outputs": [
        {
          "output_type": "display_data",
          "data": {
            "text/html": [
              "'factor'"
            ],
            "text/markdown": "'factor'",
            "text/latex": "'factor'",
            "text/plain": [
              "[1] \"factor\""
            ]
          },
          "metadata": {}
        }
      ]
    },
    {
      "cell_type": "markdown",
      "source": [
        "\n",
        "\n",
        "## 4 - Avaliando e interpretando o modelo\n",
        "---\n",
        "\n"
      ],
      "metadata": {
        "id": "6sQsxZHCJAP6"
      }
    },
    {
      "cell_type": "code",
      "source": [
        "# Instalando o pacote gmodels para auxiliar na availação\n",
        "install.packages('gmodels')\n",
        "library(gmodels)"
      ],
      "metadata": {
        "colab": {
          "base_uri": "https://localhost:8080/"
        },
        "id": "4BxiFfKII9ZI",
        "outputId": "7947856f-2ef5-4bb2-fa00-50fe4b969c20"
      },
      "execution_count": 18,
      "outputs": [
        {
          "output_type": "stream",
          "name": "stderr",
          "text": [
            "Installing package into ‘/usr/local/lib/R/site-library’\n",
            "(as ‘lib’ is unspecified)\n",
            "\n",
            "also installing the dependencies ‘gtools’, ‘gdata’\n",
            "\n",
            "\n"
          ]
        }
      ]
    },
    {
      "cell_type": "code",
      "source": [
        "# Tabela cruzada: Dados previstos vs Dados atuais\n",
        "CrossTable(x = teste_labels, y = modelo1, prop.chisq = FALSE) # O modelo teve 98% de acerto"
      ],
      "metadata": {
        "colab": {
          "base_uri": "https://localhost:8080/"
        },
        "id": "866-QlaVJHEd",
        "outputId": "ccee5a7f-1b7c-4ad9-f2c5-57afcd316b09"
      },
      "execution_count": 19,
      "outputs": [
        {
          "output_type": "stream",
          "name": "stdout",
          "text": [
            "\n",
            " \n",
            "   Cell Contents\n",
            "|-------------------------|\n",
            "|                       N |\n",
            "|           N / Row Total |\n",
            "|           N / Col Total |\n",
            "|         N / Table Total |\n",
            "|-------------------------|\n",
            "\n",
            " \n",
            "Total Observations in Table:  100 \n",
            "\n",
            " \n",
            "             | modelo1 \n",
            "teste_labels |   Benigno |   Maligno | Row Total | \n",
            "-------------|-----------|-----------|-----------|\n",
            "     Benigno |        77 |         0 |        77 | \n",
            "             |     1.000 |     0.000 |     0.770 | \n",
            "             |     0.975 |     0.000 |           | \n",
            "             |     0.770 |     0.000 |           | \n",
            "-------------|-----------|-----------|-----------|\n",
            "     Maligno |         2 |        21 |        23 | \n",
            "             |     0.087 |     0.913 |     0.230 | \n",
            "             |     0.025 |     1.000 |           | \n",
            "             |     0.020 |     0.210 |           | \n",
            "-------------|-----------|-----------|-----------|\n",
            "Column Total |        79 |        21 |       100 | \n",
            "             |     0.790 |     0.210 |           | \n",
            "-------------|-----------|-----------|-----------|\n",
            "\n",
            " \n"
          ]
        }
      ]
    },
    {
      "cell_type": "markdown",
      "source": [
        "## 5 - Otimizando o modelo"
      ],
      "metadata": {
        "id": "AxnlW7bPJMEi"
      }
    },
    {
      "cell_type": "code",
      "source": [
        "# Usando scale pra padronizar o z-score\n",
        "df_z <- as.data.frame(scale(df[-1]))\n",
        "summary(df_z$area_mean) #funcionou"
      ],
      "metadata": {
        "colab": {
          "base_uri": "https://localhost:8080/",
          "height": 52
        },
        "id": "yaEyE4H1JOf-",
        "outputId": "b6ea5f26-9e8a-4f99-ccc0-f8e65f803445"
      },
      "execution_count": 20,
      "outputs": [
        {
          "output_type": "display_data",
          "data": {
            "text/plain": [
              "   Min. 1st Qu.  Median    Mean 3rd Qu.    Max. \n",
              "-1.4532 -0.6666 -0.2949  0.0000  0.3632  5.2459 "
            ]
          },
          "metadata": {}
        }
      ]
    },
    {
      "cell_type": "code",
      "source": [
        " # Refazendo os dados de treino e teste\n",
        "treino_z <- df_z[1:469,]\n",
        "teste_z <- df_z[470:569,]"
      ],
      "metadata": {
        "id": "9eqiq9hKJTC0"
      },
      "execution_count": 21,
      "outputs": []
    },
    {
      "cell_type": "code",
      "source": [
        "# Testando o modelo de novo\n",
        "modelo2 <- knn(train = treino_z,\n",
        "               test = teste_z,\n",
        "               cl = treino_labels,\n",
        "               k = 21)\n",
        "CrossTable(x = teste_labels, y = modelo2, prop.chisq = FALSE) # Não adiantou"
      ],
      "metadata": {
        "colab": {
          "base_uri": "https://localhost:8080/"
        },
        "id": "2AlNfX4UJVtu",
        "outputId": "c98b552d-95fa-40bf-9f4d-6b85ec5a7497"
      },
      "execution_count": 22,
      "outputs": [
        {
          "output_type": "stream",
          "name": "stdout",
          "text": [
            "\n",
            " \n",
            "   Cell Contents\n",
            "|-------------------------|\n",
            "|                       N |\n",
            "|           N / Row Total |\n",
            "|           N / Col Total |\n",
            "|         N / Table Total |\n",
            "|-------------------------|\n",
            "\n",
            " \n",
            "Total Observations in Table:  100 \n",
            "\n",
            " \n",
            "             | modelo2 \n",
            "teste_labels |   Benigno |   Maligno | Row Total | \n",
            "-------------|-----------|-----------|-----------|\n",
            "     Benigno |        77 |         0 |        77 | \n",
            "             |     1.000 |     0.000 |     0.770 | \n",
            "             |     0.975 |     0.000 |           | \n",
            "             |     0.770 |     0.000 |           | \n",
            "-------------|-----------|-----------|-----------|\n",
            "     Maligno |         2 |        21 |        23 | \n",
            "             |     0.087 |     0.913 |     0.230 | \n",
            "             |     0.025 |     1.000 |           | \n",
            "             |     0.020 |     0.210 |           | \n",
            "-------------|-----------|-----------|-----------|\n",
            "Column Total |        79 |        21 |       100 | \n",
            "             |     0.790 |     0.210 |           | \n",
            "-------------|-----------|-----------|-----------|\n",
            "\n",
            " \n"
          ]
        }
      ]
    },
    {
      "cell_type": "code",
      "source": [
        "# Hora de mudar os valores de k pra achar um modelo mais otimizado\n",
        "  # Vou usar os valores normalizados mesmo\n",
        "\n",
        "modelo3 <- knn(train = treino,\n",
        "               test = teste,\n",
        "               cl = treino_labels,\n",
        "               k = 1)\n",
        "CrossTable(x = teste_labels, y = modelo3, prop.chisq = FALSE) # esse ficou pior ainda\n"
      ],
      "metadata": {
        "colab": {
          "base_uri": "https://localhost:8080/"
        },
        "id": "S7Xo52U7JbFx",
        "outputId": "0b5d8bc0-5103-4bcd-d066-d48d25c313de"
      },
      "execution_count": 23,
      "outputs": [
        {
          "output_type": "stream",
          "name": "stdout",
          "text": [
            "\n",
            " \n",
            "   Cell Contents\n",
            "|-------------------------|\n",
            "|                       N |\n",
            "|           N / Row Total |\n",
            "|           N / Col Total |\n",
            "|         N / Table Total |\n",
            "|-------------------------|\n",
            "\n",
            " \n",
            "Total Observations in Table:  100 \n",
            "\n",
            " \n",
            "             | modelo3 \n",
            "teste_labels |   Benigno |   Maligno | Row Total | \n",
            "-------------|-----------|-----------|-----------|\n",
            "     Benigno |        72 |         5 |        77 | \n",
            "             |     0.935 |     0.065 |     0.770 | \n",
            "             |     0.973 |     0.192 |           | \n",
            "             |     0.720 |     0.050 |           | \n",
            "-------------|-----------|-----------|-----------|\n",
            "     Maligno |         2 |        21 |        23 | \n",
            "             |     0.087 |     0.913 |     0.230 | \n",
            "             |     0.027 |     0.808 |           | \n",
            "             |     0.020 |     0.210 |           | \n",
            "-------------|-----------|-----------|-----------|\n",
            "Column Total |        74 |        26 |       100 | \n",
            "             |     0.740 |     0.260 |           | \n",
            "-------------|-----------|-----------|-----------|\n",
            "\n",
            " \n"
          ]
        }
      ]
    },
    {
      "cell_type": "code",
      "source": [
        "modelo4 <- knn(train = treino,\n",
        "               test = teste,\n",
        "               cl = treino_labels,\n",
        "               k = 5)\n",
        "CrossTable(x = teste_labels, y = modelo4, prop.chisq = FALSE) # melhorou de um lado mas piorou de outro\n"
      ],
      "metadata": {
        "colab": {
          "base_uri": "https://localhost:8080/"
        },
        "id": "H-NVjkXdJejM",
        "outputId": "fed205ad-e1fc-4456-93a5-55062b4422b4"
      },
      "execution_count": 24,
      "outputs": [
        {
          "output_type": "stream",
          "name": "stdout",
          "text": [
            "\n",
            " \n",
            "   Cell Contents\n",
            "|-------------------------|\n",
            "|                       N |\n",
            "|           N / Row Total |\n",
            "|           N / Col Total |\n",
            "|         N / Table Total |\n",
            "|-------------------------|\n",
            "\n",
            " \n",
            "Total Observations in Table:  100 \n",
            "\n",
            " \n",
            "             | modelo4 \n",
            "teste_labels |   Benigno |   Maligno | Row Total | \n",
            "-------------|-----------|-----------|-----------|\n",
            "     Benigno |        74 |         3 |        77 | \n",
            "             |     0.961 |     0.039 |     0.770 | \n",
            "             |     1.000 |     0.115 |           | \n",
            "             |     0.740 |     0.030 |           | \n",
            "-------------|-----------|-----------|-----------|\n",
            "     Maligno |         0 |        23 |        23 | \n",
            "             |     0.000 |     1.000 |     0.230 | \n",
            "             |     0.000 |     0.885 |           | \n",
            "             |     0.000 |     0.230 |           | \n",
            "-------------|-----------|-----------|-----------|\n",
            "Column Total |        74 |        26 |       100 | \n",
            "             |     0.740 |     0.260 |           | \n",
            "-------------|-----------|-----------|-----------|\n",
            "\n",
            " \n"
          ]
        }
      ]
    },
    {
      "cell_type": "code",
      "source": [
        "modelo5 <- knn(train = treino,\n",
        "               test = teste,\n",
        "               cl = treino_labels,\n",
        "               k = 15)\n",
        "CrossTable(x = teste_labels, y = modelo5, prop.chisq = FALSE) # igual ao modelo1"
      ],
      "metadata": {
        "colab": {
          "base_uri": "https://localhost:8080/"
        },
        "id": "jKLr42O-Jh6T",
        "outputId": "0f5a6683-f856-43c5-d7a8-c7f33a68f4d3"
      },
      "execution_count": 25,
      "outputs": [
        {
          "output_type": "stream",
          "name": "stdout",
          "text": [
            "\n",
            " \n",
            "   Cell Contents\n",
            "|-------------------------|\n",
            "|                       N |\n",
            "|           N / Row Total |\n",
            "|           N / Col Total |\n",
            "|         N / Table Total |\n",
            "|-------------------------|\n",
            "\n",
            " \n",
            "Total Observations in Table:  100 \n",
            "\n",
            " \n",
            "             | modelo5 \n",
            "teste_labels |   Benigno |   Maligno | Row Total | \n",
            "-------------|-----------|-----------|-----------|\n",
            "     Benigno |        77 |         0 |        77 | \n",
            "             |     1.000 |     0.000 |     0.770 | \n",
            "             |     0.975 |     0.000 |           | \n",
            "             |     0.770 |     0.000 |           | \n",
            "-------------|-----------|-----------|-----------|\n",
            "     Maligno |         2 |        21 |        23 | \n",
            "             |     0.087 |     0.913 |     0.230 | \n",
            "             |     0.025 |     1.000 |           | \n",
            "             |     0.020 |     0.210 |           | \n",
            "-------------|-----------|-----------|-----------|\n",
            "Column Total |        79 |        21 |       100 | \n",
            "             |     0.790 |     0.210 |           | \n",
            "-------------|-----------|-----------|-----------|\n",
            "\n",
            " \n"
          ]
        }
      ]
    },
    {
      "cell_type": "code",
      "source": [
        "\n",
        "modelo6 <- knn(train = treino,\n",
        "               test = teste,\n",
        "               cl = treino_labels,\n",
        "               k = 11)\n",
        "CrossTable(x = teste_labels, y = modelo6, prop.chisq = FALSE) # diminuiu para 1% o erro do beningo mas aumentou em 1% o erro do maligno"
      ],
      "metadata": {
        "colab": {
          "base_uri": "https://localhost:8080/"
        },
        "id": "Ob4HuFpOJlyp",
        "outputId": "2061e36c-b0e4-49e3-dea8-926a8aa2ea13"
      },
      "execution_count": 26,
      "outputs": [
        {
          "output_type": "stream",
          "name": "stdout",
          "text": [
            "\n",
            " \n",
            "   Cell Contents\n",
            "|-------------------------|\n",
            "|                       N |\n",
            "|           N / Row Total |\n",
            "|           N / Col Total |\n",
            "|         N / Table Total |\n",
            "|-------------------------|\n",
            "\n",
            " \n",
            "Total Observations in Table:  100 \n",
            "\n",
            " \n",
            "             | modelo6 \n",
            "teste_labels |   Benigno |   Maligno | Row Total | \n",
            "-------------|-----------|-----------|-----------|\n",
            "     Benigno |        76 |         1 |        77 | \n",
            "             |     0.987 |     0.013 |     0.770 | \n",
            "             |     0.987 |     0.043 |           | \n",
            "             |     0.760 |     0.010 |           | \n",
            "-------------|-----------|-----------|-----------|\n",
            "     Maligno |         1 |        22 |        23 | \n",
            "             |     0.043 |     0.957 |     0.230 | \n",
            "             |     0.013 |     0.957 |           | \n",
            "             |     0.010 |     0.220 |           | \n",
            "-------------|-----------|-----------|-----------|\n",
            "Column Total |        77 |        23 |       100 | \n",
            "             |     0.770 |     0.230 |           | \n",
            "-------------|-----------|-----------|-----------|\n",
            "\n",
            " \n"
          ]
        }
      ]
    },
    {
      "cell_type": "code",
      "source": [
        "\n",
        "modelo7 <- knn(train = treino,\n",
        "               test = teste,\n",
        "               cl = treino_labels,\n",
        "               k = 27)\n",
        "CrossTable(x = teste_labels, y = modelo7, prop.chisq = FALSE) # igual ao modelo1\n",
        "  # Aparentemente o primeiro modelo era o mais otimizado pois tinha 2% de erro pros diagnósticos benignos e 0 nos malignos"
      ],
      "metadata": {
        "colab": {
          "base_uri": "https://localhost:8080/"
        },
        "id": "NMS6lzU7Jpft",
        "outputId": "3a0dda50-060c-4d09-8713-907fb0da6ae9"
      },
      "execution_count": 27,
      "outputs": [
        {
          "output_type": "stream",
          "name": "stdout",
          "text": [
            "\n",
            " \n",
            "   Cell Contents\n",
            "|-------------------------|\n",
            "|                       N |\n",
            "|           N / Row Total |\n",
            "|           N / Col Total |\n",
            "|         N / Table Total |\n",
            "|-------------------------|\n",
            "\n",
            " \n",
            "Total Observations in Table:  100 \n",
            "\n",
            " \n",
            "             | modelo7 \n",
            "teste_labels |   Benigno |   Maligno | Row Total | \n",
            "-------------|-----------|-----------|-----------|\n",
            "     Benigno |        77 |         0 |        77 | \n",
            "             |     1.000 |     0.000 |     0.770 | \n",
            "             |     0.975 |     0.000 |           | \n",
            "             |     0.770 |     0.000 |           | \n",
            "-------------|-----------|-----------|-----------|\n",
            "     Maligno |         2 |        21 |        23 | \n",
            "             |     0.087 |     0.913 |     0.230 | \n",
            "             |     0.025 |     1.000 |           | \n",
            "             |     0.020 |     0.210 |           | \n",
            "-------------|-----------|-----------|-----------|\n",
            "Column Total |        79 |        21 |       100 | \n",
            "             |     0.790 |     0.210 |           | \n",
            "-------------|-----------|-----------|-----------|\n",
            "\n",
            " \n"
          ]
        }
      ]
    },
    {
      "cell_type": "markdown",
      "source": [
        "\n",
        "## 6 - Calculando as taxas de erro"
      ],
      "metadata": {
        "id": "e0ktK9O1JvnT"
      }
    },
    {
      "cell_type": "code",
      "source": [
        "prev <- NULL\n",
        "taxa_erro <- NULL"
      ],
      "metadata": {
        "id": "rJP_A16KJuAP"
      },
      "execution_count": 28,
      "outputs": []
    },
    {
      "cell_type": "code",
      "source": [
        "# Loop for pra preencher os valores\n",
        "for(i in 1:20){\n",
        "  set.seed(101)\n",
        "  prev = knn(train = treino,\n",
        "             test = teste,\n",
        "             cl = treino_labels,\n",
        "             k = i)\n",
        "  taxa_erro[i] = mean(df$diagnosis != prev)\n",
        "}"
      ],
      "metadata": {
        "colab": {
          "base_uri": "https://localhost:8080/"
        },
        "id": "xTH6Rt7vJ1gF",
        "outputId": "c90965b2-4802-40ac-8ba9-fc863eb523b0"
      },
      "execution_count": 29,
      "outputs": [
        {
          "output_type": "stream",
          "name": "stderr",
          "text": [
            "Warning message in `!=.default`(df$diagnosis, prev):\n",
            "“longer object length is not a multiple of shorter object length”\n",
            "Warning message in is.na(e1) | is.na(e2):\n",
            "“longer object length is not a multiple of shorter object length”\n",
            "Warning message in `!=.default`(df$diagnosis, prev):\n",
            "“longer object length is not a multiple of shorter object length”\n",
            "Warning message in is.na(e1) | is.na(e2):\n",
            "“longer object length is not a multiple of shorter object length”\n",
            "Warning message in `!=.default`(df$diagnosis, prev):\n",
            "“longer object length is not a multiple of shorter object length”\n",
            "Warning message in is.na(e1) | is.na(e2):\n",
            "“longer object length is not a multiple of shorter object length”\n",
            "Warning message in `!=.default`(df$diagnosis, prev):\n",
            "“longer object length is not a multiple of shorter object length”\n",
            "Warning message in is.na(e1) | is.na(e2):\n",
            "“longer object length is not a multiple of shorter object length”\n",
            "Warning message in `!=.default`(df$diagnosis, prev):\n",
            "“longer object length is not a multiple of shorter object length”\n",
            "Warning message in is.na(e1) | is.na(e2):\n",
            "“longer object length is not a multiple of shorter object length”\n",
            "Warning message in `!=.default`(df$diagnosis, prev):\n",
            "“longer object length is not a multiple of shorter object length”\n",
            "Warning message in is.na(e1) | is.na(e2):\n",
            "“longer object length is not a multiple of shorter object length”\n",
            "Warning message in `!=.default`(df$diagnosis, prev):\n",
            "“longer object length is not a multiple of shorter object length”\n",
            "Warning message in is.na(e1) | is.na(e2):\n",
            "“longer object length is not a multiple of shorter object length”\n",
            "Warning message in `!=.default`(df$diagnosis, prev):\n",
            "“longer object length is not a multiple of shorter object length”\n",
            "Warning message in is.na(e1) | is.na(e2):\n",
            "“longer object length is not a multiple of shorter object length”\n",
            "Warning message in `!=.default`(df$diagnosis, prev):\n",
            "“longer object length is not a multiple of shorter object length”\n",
            "Warning message in is.na(e1) | is.na(e2):\n",
            "“longer object length is not a multiple of shorter object length”\n",
            "Warning message in `!=.default`(df$diagnosis, prev):\n",
            "“longer object length is not a multiple of shorter object length”\n",
            "Warning message in is.na(e1) | is.na(e2):\n",
            "“longer object length is not a multiple of shorter object length”\n",
            "Warning message in `!=.default`(df$diagnosis, prev):\n",
            "“longer object length is not a multiple of shorter object length”\n",
            "Warning message in is.na(e1) | is.na(e2):\n",
            "“longer object length is not a multiple of shorter object length”\n",
            "Warning message in `!=.default`(df$diagnosis, prev):\n",
            "“longer object length is not a multiple of shorter object length”\n",
            "Warning message in is.na(e1) | is.na(e2):\n",
            "“longer object length is not a multiple of shorter object length”\n",
            "Warning message in `!=.default`(df$diagnosis, prev):\n",
            "“longer object length is not a multiple of shorter object length”\n",
            "Warning message in is.na(e1) | is.na(e2):\n",
            "“longer object length is not a multiple of shorter object length”\n",
            "Warning message in `!=.default`(df$diagnosis, prev):\n",
            "“longer object length is not a multiple of shorter object length”\n",
            "Warning message in is.na(e1) | is.na(e2):\n",
            "“longer object length is not a multiple of shorter object length”\n",
            "Warning message in `!=.default`(df$diagnosis, prev):\n",
            "“longer object length is not a multiple of shorter object length”\n",
            "Warning message in is.na(e1) | is.na(e2):\n",
            "“longer object length is not a multiple of shorter object length”\n",
            "Warning message in `!=.default`(df$diagnosis, prev):\n",
            "“longer object length is not a multiple of shorter object length”\n",
            "Warning message in is.na(e1) | is.na(e2):\n",
            "“longer object length is not a multiple of shorter object length”\n",
            "Warning message in `!=.default`(df$diagnosis, prev):\n",
            "“longer object length is not a multiple of shorter object length”\n",
            "Warning message in is.na(e1) | is.na(e2):\n",
            "“longer object length is not a multiple of shorter object length”\n",
            "Warning message in `!=.default`(df$diagnosis, prev):\n",
            "“longer object length is not a multiple of shorter object length”\n",
            "Warning message in is.na(e1) | is.na(e2):\n",
            "“longer object length is not a multiple of shorter object length”\n",
            "Warning message in `!=.default`(df$diagnosis, prev):\n",
            "“longer object length is not a multiple of shorter object length”\n",
            "Warning message in is.na(e1) | is.na(e2):\n",
            "“longer object length is not a multiple of shorter object length”\n",
            "Warning message in `!=.default`(df$diagnosis, prev):\n",
            "“longer object length is not a multiple of shorter object length”\n",
            "Warning message in is.na(e1) | is.na(e2):\n",
            "“longer object length is not a multiple of shorter object length”\n"
          ]
        }
      ]
    },
    {
      "cell_type": "code",
      "source": [
        " # Visualizando os k e as taxas de erro\n",
        "library(ggplot2)\n",
        "k.values <- 1:20"
      ],
      "metadata": {
        "id": "Ag8rXZLgJ8qk"
      },
      "execution_count": 30,
      "outputs": []
    },
    {
      "cell_type": "code",
      "source": [
        "df_erro <- data.frame(taxa_erro, k.values)\n",
        "df_erro"
      ],
      "metadata": {
        "colab": {
          "base_uri": "https://localhost:8080/",
          "height": 725
        },
        "id": "MpXlH_8xKAgK",
        "outputId": "8765d06b-f3fb-4999-b64a-96f95d2e7a48"
      },
      "execution_count": 31,
      "outputs": [
        {
          "output_type": "display_data",
          "data": {
            "text/html": [
              "<table class=\"dataframe\">\n",
              "<caption>A data.frame: 20 × 2</caption>\n",
              "<thead>\n",
              "\t<tr><th scope=col>taxa_erro</th><th scope=col>k.values</th></tr>\n",
              "\t<tr><th scope=col>&lt;dbl&gt;</th><th scope=col>&lt;int&gt;</th></tr>\n",
              "</thead>\n",
              "<tbody>\n",
              "\t<tr><td>0.4358524</td><td> 1</td></tr>\n",
              "\t<tr><td>0.4200351</td><td> 2</td></tr>\n",
              "\t<tr><td>0.4340949</td><td> 3</td></tr>\n",
              "\t<tr><td>0.4411248</td><td> 4</td></tr>\n",
              "\t<tr><td>0.4499121</td><td> 5</td></tr>\n",
              "\t<tr><td>0.4463972</td><td> 6</td></tr>\n",
              "\t<tr><td>0.4463972</td><td> 7</td></tr>\n",
              "\t<tr><td>0.4463972</td><td> 8</td></tr>\n",
              "\t<tr><td>0.4463972</td><td> 9</td></tr>\n",
              "\t<tr><td>0.4393673</td><td>10</td></tr>\n",
              "\t<tr><td>0.4393673</td><td>11</td></tr>\n",
              "\t<tr><td>0.4393673</td><td>12</td></tr>\n",
              "\t<tr><td>0.4288225</td><td>13</td></tr>\n",
              "\t<tr><td>0.4253076</td><td>14</td></tr>\n",
              "\t<tr><td>0.4253076</td><td>15</td></tr>\n",
              "\t<tr><td>0.4253076</td><td>16</td></tr>\n",
              "\t<tr><td>0.4253076</td><td>17</td></tr>\n",
              "\t<tr><td>0.4253076</td><td>18</td></tr>\n",
              "\t<tr><td>0.4253076</td><td>19</td></tr>\n",
              "\t<tr><td>0.4253076</td><td>20</td></tr>\n",
              "</tbody>\n",
              "</table>\n"
            ],
            "text/markdown": "\nA data.frame: 20 × 2\n\n| taxa_erro &lt;dbl&gt; | k.values &lt;int&gt; |\n|---|---|\n| 0.4358524 |  1 |\n| 0.4200351 |  2 |\n| 0.4340949 |  3 |\n| 0.4411248 |  4 |\n| 0.4499121 |  5 |\n| 0.4463972 |  6 |\n| 0.4463972 |  7 |\n| 0.4463972 |  8 |\n| 0.4463972 |  9 |\n| 0.4393673 | 10 |\n| 0.4393673 | 11 |\n| 0.4393673 | 12 |\n| 0.4288225 | 13 |\n| 0.4253076 | 14 |\n| 0.4253076 | 15 |\n| 0.4253076 | 16 |\n| 0.4253076 | 17 |\n| 0.4253076 | 18 |\n| 0.4253076 | 19 |\n| 0.4253076 | 20 |\n\n",
            "text/latex": "A data.frame: 20 × 2\n\\begin{tabular}{ll}\n taxa\\_erro & k.values\\\\\n <dbl> & <int>\\\\\n\\hline\n\t 0.4358524 &  1\\\\\n\t 0.4200351 &  2\\\\\n\t 0.4340949 &  3\\\\\n\t 0.4411248 &  4\\\\\n\t 0.4499121 &  5\\\\\n\t 0.4463972 &  6\\\\\n\t 0.4463972 &  7\\\\\n\t 0.4463972 &  8\\\\\n\t 0.4463972 &  9\\\\\n\t 0.4393673 & 10\\\\\n\t 0.4393673 & 11\\\\\n\t 0.4393673 & 12\\\\\n\t 0.4288225 & 13\\\\\n\t 0.4253076 & 14\\\\\n\t 0.4253076 & 15\\\\\n\t 0.4253076 & 16\\\\\n\t 0.4253076 & 17\\\\\n\t 0.4253076 & 18\\\\\n\t 0.4253076 & 19\\\\\n\t 0.4253076 & 20\\\\\n\\end{tabular}\n",
            "text/plain": [
              "   taxa_erro k.values\n",
              "1  0.4358524  1      \n",
              "2  0.4200351  2      \n",
              "3  0.4340949  3      \n",
              "4  0.4411248  4      \n",
              "5  0.4499121  5      \n",
              "6  0.4463972  6      \n",
              "7  0.4463972  7      \n",
              "8  0.4463972  8      \n",
              "9  0.4463972  9      \n",
              "10 0.4393673 10      \n",
              "11 0.4393673 11      \n",
              "12 0.4393673 12      \n",
              "13 0.4288225 13      \n",
              "14 0.4253076 14      \n",
              "15 0.4253076 15      \n",
              "16 0.4253076 16      \n",
              "17 0.4253076 17      \n",
              "18 0.4253076 18      \n",
              "19 0.4253076 19      \n",
              "20 0.4253076 20      "
            ]
          },
          "metadata": {}
        }
      ]
    },
    {
      "cell_type": "code",
      "source": [
        "# Plotando os erros\n",
        "ggplot(df_erro, \n",
        "       aes(x = k.values, y = taxa_erro)) +\n",
        "  geom_point() + geom_line(lty = 'dotted', color = 'red')"
      ],
      "metadata": {
        "colab": {
          "base_uri": "https://localhost:8080/",
          "height": 437
        },
        "id": "WNOqczI9KDxs",
        "outputId": "ca58c0ec-d32c-4a36-e2ee-e51df608a17d"
      },
      "execution_count": 33,
      "outputs": [
        {
          "output_type": "display_data",
          "data": {
            "text/plain": [
              "plot without title"
            ],
            "image/png": "[encoded data removed]"
          },
          "metadata": {
            "image/png": {
              "width": 420,
              "height": 420
            }
          }
        }
      ]
    },
    {
      "cell_type": "markdown",
      "source": [
        "O erro diminui a medida que o número de K aumenta!"
      ],
      "metadata": {
        "id": "-CeqIs7eKI_i"
      }
    }
  ]
}